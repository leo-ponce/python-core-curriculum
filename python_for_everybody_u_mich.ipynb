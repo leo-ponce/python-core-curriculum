{
  "nbformat": 4,
  "nbformat_minor": 0,
  "metadata": {
    "colab": {
      "name": "python-for-everybody-u-mich.ipynb",
      "provenance": [],
      "authorship_tag": "ABX9TyPzBNoMKK2fHQqx+rHIV/RV",
      "include_colab_link": true
    },
    "kernelspec": {
      "name": "python3",
      "display_name": "Python 3"
    },
    "language_info": {
      "name": "python"
    }
  },
  "cells": [
    {
      "cell_type": "markdown",
      "metadata": {
        "id": "view-in-github",
        "colab_type": "text"
      },
      "source": [
        "<a href=\"https://colab.research.google.com/github/leo6pon/python-core-curriculum/blob/main/python_for_everybody_u_mich.ipynb\" target=\"_parent\"><img src=\"https://colab.research.google.com/assets/colab-badge.svg\" alt=\"Open In Colab\"/></a>"
      ]
    },
    {
      "cell_type": "markdown",
      "source": [
        "##Python For Everyone, UMich"
      ],
      "metadata": {
        "id": "MMynUDu1oRj8"
      }
    },
    {
      "cell_type": "code",
      "source": [
        ""
      ],
      "metadata": {
        "id": "Fiud5abhoQ7h"
      },
      "execution_count": null,
      "outputs": []
    },
    {
      "cell_type": "markdown",
      "source": [
        "#Why program\n",
        "\n",
        "TEST QS\n",
        "\n",
        "1) What do we need to take care in the app the stakeholder doesnt need to know about?\n",
        "\n",
        "2) Compare/contrast Secondary and main memory.\n",
        "\n",
        "3) Which memory also known as RAM?\n",
        "\n",
        "4) What are examples of peripherals and secondary devices?\n",
        "\n",
        "NOTES\n",
        "Computers are built to bend to our will. We need to speak their language, as they cannot yet speak our language very well. Shifting from the *user perspective* to the *programmer perspective* can help us better develop programs. We can create things (e.g. mobile apps, AI, navigational programs) and build tools to change how computer sees the world.\n",
        "\n",
        "Our why - produce something for others to use, perform work \n",
        "\n",
        "  e.g. clean up survey data \n",
        "  e.g. fix performance probs for a commercial software\n",
        "\n",
        "As a programmer, we think from inside the computer vs. at the person level. The end user (i.e. stackholders/actors) are our masters - who we wish to appease. They often pay us money when they are pleased. Notably, *the data*, *information* and *networks* are our  problem to solve on their behalf.  \n",
        "\n",
        "##What is code, software, program\n",
        "\n",
        "Programming = sequence of instructions to make something happen for end user, sometime u r end user\n",
        "\n",
        "   e.g. Macarena is a program for humans vs computers\n",
        "\n",
        "##Hardware Architecture\n",
        "\n",
        "Be able to use words:\n",
        "computer network = a set of computers sharing resources located on or provided by network nodes. The computers use common communication protocols over digital interconnections to communicate with each other. These interconnections are made up of telecommunication network technologies, based on physically wired, optical, and wireless radio-frequency methods that may be arranged in a variety of network topologies. \n",
        "protocols\n",
        "secondary storage\n",
        "random access memory\n",
        "peripherals\n",
        "input devices\n",
        "raspberry pi = cute single board computer, architecture stays same but no of components drop as it gets smaller and smaller\n",
        "\n",
        "software = is closest thing a computer has to a brain as may be the\n",
        "microprocessing unit AKA CPU\n",
        "\n",
        "CPU = asks 3BX/s \"What do u want done next?\"; 3B operations / s; runs programs, very fast\n",
        "\n",
        "input devices = keyboard, mouse, touch screen\n",
        "\n",
        "output devices = screen speakers, dvd burner\n",
        "\n",
        "main memory = fast small temp storage, lost on reboot AKA RAM\n",
        "\n",
        "secondary memory = slower large permanent storage, lasts until deleted, disk drive/memory stick; \"memory thar lasts\"\n",
        "\n",
        "Main memory = where program u wrote is stored (or program u purchased), really fast\n",
        "\n",
        "motherboard = connects all components together \n",
        "\n",
        "hardrive = secondary storage, permanent, when power is off it stores it\n",
        "\n",
        "capacitors = a device that stores electrical energy in an electric field. It is a passive electronic component with two terminals.  It is a component designed to add capacitance to a circuit\n",
        "resistors =  a passive two-terminal electrical component that implements electrical resistance as a circuit element. In electronic circuits, resistors are used to reduce current flow, adjust signal levels, to divide voltages, bias active elements, and terminate transmission lines, among other uses. High-power resistors that can dissipate many watts of electrical power as heat may be used as part of motor controls, in power distribution systems, or as test loads for generators.\n",
        "transistors =  a semiconductor device used to amplify or switch electrical signals and power. The transistor is one of the basic building blocks of modern electronics. It is composed of semiconductor material, usually with at least three terminals for connection to an electronic circuit. \n",
        "\n",
        "peripherals = e.g, keyboard\n",
        "\n",
        "CPU asks insturctions, main memory holds them\n",
        "\n",
        "##Python to Machine language\n",
        "\n",
        "Python translates into machine language  (1's and 0s). Python far easier to learn than machine language.\n",
        "\n",
        "\n",
        "##Python as a language\n",
        "\n",
        "The computer loves you it is just not good at showing how it loves you. \n",
        "\n",
        "Syntax errors = python admitting it doesnt understand what ur saying\n",
        "\n",
        "\n",
        "\n",
        "Next steps - download python on system, navigating windows\n"
      ],
      "metadata": {
        "id": "s_t0HhEqo6PB"
      }
    },
    {
      "cell_type": "code",
      "source": [
        "#word counting program\n",
        "name = raw_input('Enter file:')\n",
        "handle = open(name)\n",
        "\n",
        "count = dict()\n",
        "for line in handle:\n",
        "    words = line.split()\n",
        "    for word in words:\n",
        "        count[word] = counts.get(word,0) + 1\n",
        "\n",
        "bigcount = None\n",
        "bigword = None\n",
        "for word,count in count.items():\n",
        "    if bigcount is None or count > bigcount:\n",
        "        bigword = word\n",
        "        bigcount = count\n",
        "\n",
        "print(bigword, bigcount)\n",
        "\n"
      ],
      "metadata": {
        "colab": {
          "base_uri": "https://localhost:8080/",
          "height": 239
        },
        "id": "rOzw8FUN1yr8",
        "outputId": "0bf32ee8-9343-4629-9fdf-68d9e33f0938"
      },
      "execution_count": null,
      "outputs": [
        {
          "output_type": "error",
          "ename": "NameError",
          "evalue": "ignored",
          "traceback": [
            "\u001b[0;31m---------------------------------------------------------------------------\u001b[0m",
            "\u001b[0;31mNameError\u001b[0m                                 Traceback (most recent call last)",
            "\u001b[0;32m<ipython-input-9-87e5d66ca51e>\u001b[0m in \u001b[0;36m<module>\u001b[0;34m()\u001b[0m\n\u001b[1;32m      1\u001b[0m \u001b[0;31m#word counting program\u001b[0m\u001b[0;34m\u001b[0m\u001b[0;34m\u001b[0m\u001b[0;34m\u001b[0m\u001b[0m\n\u001b[0;32m----> 2\u001b[0;31m \u001b[0mname\u001b[0m \u001b[0;34m=\u001b[0m \u001b[0mraw_input\u001b[0m\u001b[0;34m(\u001b[0m\u001b[0;34m'Enter file:'\u001b[0m\u001b[0;34m)\u001b[0m\u001b[0;34m\u001b[0m\u001b[0;34m\u001b[0m\u001b[0m\n\u001b[0m\u001b[1;32m      3\u001b[0m \u001b[0mhandle\u001b[0m \u001b[0;34m=\u001b[0m \u001b[0mopen\u001b[0m\u001b[0;34m(\u001b[0m\u001b[0mname\u001b[0m\u001b[0;34m)\u001b[0m\u001b[0;34m\u001b[0m\u001b[0;34m\u001b[0m\u001b[0m\n\u001b[1;32m      4\u001b[0m \u001b[0;34m\u001b[0m\u001b[0m\n\u001b[1;32m      5\u001b[0m \u001b[0mcount\u001b[0m \u001b[0;34m=\u001b[0m \u001b[0mdict\u001b[0m\u001b[0;34m(\u001b[0m\u001b[0;34m)\u001b[0m\u001b[0;34m\u001b[0m\u001b[0;34m\u001b[0m\u001b[0m\n",
            "\u001b[0;31mNameError\u001b[0m: name 'raw_input' is not defined"
          ]
        }
      ]
    },
    {
      "cell_type": "markdown",
      "source": [
        ""
      ],
      "metadata": {
        "id": "f4wd-FzA7aJN"
      }
    },
    {
      "cell_type": "markdown",
      "source": [
        "We start at basic vocabulary, lines and then start putting it together. Just realize  you will be confused for a long time and then, eventually, will make sense.\n",
        "\n"
      ],
      "metadata": {
        "id": "nfNc_BvY7cvK"
      }
    },
    {
      "cell_type": "code",
      "source": [
        "#program that counts the words in a file in Python\n",
        "45:29\n",
        "https://www.youtube.com/watch?v=n9TPPERuT74&t=2642s&ab_channel=Start-TechAcademy"
      ],
      "metadata": {
        "id": "GVIQJVyB7tMU"
      },
      "execution_count": null,
      "outputs": []
    },
    {
      "cell_type": "code",
      "source": [
        "#conversion from European to US floor\n",
        "inp= input('Europe floor?')\n",
        "usf= int(inp) + 1\n",
        "print('US floor', usf)"
      ],
      "metadata": {
        "colab": {
          "base_uri": "https://localhost:8080/",
          "height": 581
        },
        "id": "kQpxOYuws8mt",
        "outputId": "893df51c-ebda-43c5-a3bd-14f454976e00"
      },
      "execution_count": null,
      "outputs": [
        {
          "output_type": "error",
          "ename": "KeyboardInterrupt",
          "evalue": "ignored",
          "traceback": [
            "\u001b[0;31m---------------------------------------------------------------------------\u001b[0m",
            "\u001b[0;31mKeyboardInterrupt\u001b[0m                         Traceback (most recent call last)",
            "\u001b[0;32m/usr/local/lib/python3.7/dist-packages/ipykernel/kernelbase.py\u001b[0m in \u001b[0;36m_input_request\u001b[0;34m(self, prompt, ident, parent, password)\u001b[0m\n\u001b[1;32m    728\u001b[0m             \u001b[0;32mtry\u001b[0m\u001b[0;34m:\u001b[0m\u001b[0;34m\u001b[0m\u001b[0;34m\u001b[0m\u001b[0m\n\u001b[0;32m--> 729\u001b[0;31m                 \u001b[0mident\u001b[0m\u001b[0;34m,\u001b[0m \u001b[0mreply\u001b[0m \u001b[0;34m=\u001b[0m \u001b[0mself\u001b[0m\u001b[0;34m.\u001b[0m\u001b[0msession\u001b[0m\u001b[0;34m.\u001b[0m\u001b[0mrecv\u001b[0m\u001b[0;34m(\u001b[0m\u001b[0mself\u001b[0m\u001b[0;34m.\u001b[0m\u001b[0mstdin_socket\u001b[0m\u001b[0;34m,\u001b[0m \u001b[0;36m0\u001b[0m\u001b[0;34m)\u001b[0m\u001b[0;34m\u001b[0m\u001b[0;34m\u001b[0m\u001b[0m\n\u001b[0m\u001b[1;32m    730\u001b[0m             \u001b[0;32mexcept\u001b[0m \u001b[0mException\u001b[0m\u001b[0;34m:\u001b[0m\u001b[0;34m\u001b[0m\u001b[0;34m\u001b[0m\u001b[0m\n",
            "\u001b[0;32m/usr/local/lib/python3.7/dist-packages/jupyter_client/session.py\u001b[0m in \u001b[0;36mrecv\u001b[0;34m(self, socket, mode, content, copy)\u001b[0m\n\u001b[1;32m    802\u001b[0m         \u001b[0;32mtry\u001b[0m\u001b[0;34m:\u001b[0m\u001b[0;34m\u001b[0m\u001b[0;34m\u001b[0m\u001b[0m\n\u001b[0;32m--> 803\u001b[0;31m             \u001b[0mmsg_list\u001b[0m \u001b[0;34m=\u001b[0m \u001b[0msocket\u001b[0m\u001b[0;34m.\u001b[0m\u001b[0mrecv_multipart\u001b[0m\u001b[0;34m(\u001b[0m\u001b[0mmode\u001b[0m\u001b[0;34m,\u001b[0m \u001b[0mcopy\u001b[0m\u001b[0;34m=\u001b[0m\u001b[0mcopy\u001b[0m\u001b[0;34m)\u001b[0m\u001b[0;34m\u001b[0m\u001b[0;34m\u001b[0m\u001b[0m\n\u001b[0m\u001b[1;32m    804\u001b[0m         \u001b[0;32mexcept\u001b[0m \u001b[0mzmq\u001b[0m\u001b[0;34m.\u001b[0m\u001b[0mZMQError\u001b[0m \u001b[0;32mas\u001b[0m \u001b[0me\u001b[0m\u001b[0;34m:\u001b[0m\u001b[0;34m\u001b[0m\u001b[0;34m\u001b[0m\u001b[0m\n",
            "\u001b[0;32m/usr/local/lib/python3.7/dist-packages/zmq/sugar/socket.py\u001b[0m in \u001b[0;36mrecv_multipart\u001b[0;34m(self, flags, copy, track)\u001b[0m\n\u001b[1;32m    723\u001b[0m         \"\"\"\n\u001b[0;32m--> 724\u001b[0;31m         \u001b[0mparts\u001b[0m \u001b[0;34m=\u001b[0m \u001b[0;34m[\u001b[0m\u001b[0mself\u001b[0m\u001b[0;34m.\u001b[0m\u001b[0mrecv\u001b[0m\u001b[0;34m(\u001b[0m\u001b[0mflags\u001b[0m\u001b[0;34m,\u001b[0m \u001b[0mcopy\u001b[0m\u001b[0;34m=\u001b[0m\u001b[0mcopy\u001b[0m\u001b[0;34m,\u001b[0m \u001b[0mtrack\u001b[0m\u001b[0;34m=\u001b[0m\u001b[0mtrack\u001b[0m\u001b[0;34m)\u001b[0m\u001b[0;34m]\u001b[0m\u001b[0;34m\u001b[0m\u001b[0;34m\u001b[0m\u001b[0m\n\u001b[0m\u001b[1;32m    725\u001b[0m         \u001b[0;31m# have first part already, only loop while more to receive\u001b[0m\u001b[0;34m\u001b[0m\u001b[0;34m\u001b[0m\u001b[0;34m\u001b[0m\u001b[0m\n",
            "\u001b[0;32mzmq/backend/cython/socket.pyx\u001b[0m in \u001b[0;36mzmq.backend.cython.socket.Socket.recv\u001b[0;34m()\u001b[0m\n",
            "\u001b[0;32mzmq/backend/cython/socket.pyx\u001b[0m in \u001b[0;36mzmq.backend.cython.socket.Socket.recv\u001b[0;34m()\u001b[0m\n",
            "\u001b[0;32mzmq/backend/cython/socket.pyx\u001b[0m in \u001b[0;36mzmq.backend.cython.socket._recv_copy\u001b[0;34m()\u001b[0m\n",
            "\u001b[0;32m/usr/local/lib/python3.7/dist-packages/zmq/backend/cython/checkrc.pxd\u001b[0m in \u001b[0;36mzmq.backend.cython.checkrc._check_rc\u001b[0;34m()\u001b[0m\n",
            "\u001b[0;31mKeyboardInterrupt\u001b[0m: ",
            "\nDuring handling of the above exception, another exception occurred:\n",
            "\u001b[0;31mKeyboardInterrupt\u001b[0m                         Traceback (most recent call last)",
            "\u001b[0;32m<ipython-input-3-8785d3cd984f>\u001b[0m in \u001b[0;36m<module>\u001b[0;34m()\u001b[0m\n\u001b[1;32m      1\u001b[0m \u001b[0;31m#conversion from European to US floor\u001b[0m\u001b[0;34m\u001b[0m\u001b[0;34m\u001b[0m\u001b[0;34m\u001b[0m\u001b[0m\n\u001b[0;32m----> 2\u001b[0;31m \u001b[0minp\u001b[0m\u001b[0;34m=\u001b[0m \u001b[0minput\u001b[0m\u001b[0;34m(\u001b[0m\u001b[0;34m'Europe floor?'\u001b[0m\u001b[0;34m)\u001b[0m\u001b[0;34m\u001b[0m\u001b[0;34m\u001b[0m\u001b[0m\n\u001b[0m\u001b[1;32m      3\u001b[0m \u001b[0musf\u001b[0m\u001b[0;34m=\u001b[0m \u001b[0mint\u001b[0m\u001b[0;34m(\u001b[0m\u001b[0minp\u001b[0m\u001b[0;34m)\u001b[0m \u001b[0;34m+\u001b[0m \u001b[0;36m1\u001b[0m\u001b[0;34m\u001b[0m\u001b[0;34m\u001b[0m\u001b[0m\n\u001b[1;32m      4\u001b[0m \u001b[0mprint\u001b[0m\u001b[0;34m(\u001b[0m\u001b[0;34m'US floor'\u001b[0m\u001b[0;34m,\u001b[0m \u001b[0musf\u001b[0m\u001b[0;34m)\u001b[0m\u001b[0;34m\u001b[0m\u001b[0;34m\u001b[0m\u001b[0m\n",
            "\u001b[0;32m/usr/local/lib/python3.7/dist-packages/ipykernel/kernelbase.py\u001b[0m in \u001b[0;36mraw_input\u001b[0;34m(self, prompt)\u001b[0m\n\u001b[1;32m    702\u001b[0m             \u001b[0mself\u001b[0m\u001b[0;34m.\u001b[0m\u001b[0m_parent_ident\u001b[0m\u001b[0;34m,\u001b[0m\u001b[0;34m\u001b[0m\u001b[0;34m\u001b[0m\u001b[0m\n\u001b[1;32m    703\u001b[0m             \u001b[0mself\u001b[0m\u001b[0;34m.\u001b[0m\u001b[0m_parent_header\u001b[0m\u001b[0;34m,\u001b[0m\u001b[0;34m\u001b[0m\u001b[0;34m\u001b[0m\u001b[0m\n\u001b[0;32m--> 704\u001b[0;31m             \u001b[0mpassword\u001b[0m\u001b[0;34m=\u001b[0m\u001b[0;32mFalse\u001b[0m\u001b[0;34m,\u001b[0m\u001b[0;34m\u001b[0m\u001b[0;34m\u001b[0m\u001b[0m\n\u001b[0m\u001b[1;32m    705\u001b[0m         )\n\u001b[1;32m    706\u001b[0m \u001b[0;34m\u001b[0m\u001b[0m\n",
            "\u001b[0;32m/usr/local/lib/python3.7/dist-packages/ipykernel/kernelbase.py\u001b[0m in \u001b[0;36m_input_request\u001b[0;34m(self, prompt, ident, parent, password)\u001b[0m\n\u001b[1;32m    732\u001b[0m             \u001b[0;32mexcept\u001b[0m \u001b[0mKeyboardInterrupt\u001b[0m\u001b[0;34m:\u001b[0m\u001b[0;34m\u001b[0m\u001b[0;34m\u001b[0m\u001b[0m\n\u001b[1;32m    733\u001b[0m                 \u001b[0;31m# re-raise KeyboardInterrupt, to truncate traceback\u001b[0m\u001b[0;34m\u001b[0m\u001b[0;34m\u001b[0m\u001b[0;34m\u001b[0m\u001b[0m\n\u001b[0;32m--> 734\u001b[0;31m                 \u001b[0;32mraise\u001b[0m \u001b[0mKeyboardInterrupt\u001b[0m\u001b[0;34m\u001b[0m\u001b[0;34m\u001b[0m\u001b[0m\n\u001b[0m\u001b[1;32m    735\u001b[0m             \u001b[0;32melse\u001b[0m\u001b[0;34m:\u001b[0m\u001b[0;34m\u001b[0m\u001b[0;34m\u001b[0m\u001b[0m\n\u001b[1;32m    736\u001b[0m                 \u001b[0;32mbreak\u001b[0m\u001b[0;34m\u001b[0m\u001b[0;34m\u001b[0m\u001b[0m\n",
            "\u001b[0;31mKeyboardInterrupt\u001b[0m: "
          ]
        }
      ]
    },
    {
      "cell_type": "code",
      "source": [
        "#language greeting program\n",
        "def greet(lang):\n",
        "  if lang == 'es':\n",
        "      print('Hola')\n",
        "  elif lang == 'fr':\n",
        "    print('Bonjour')\n",
        "  else:\n",
        "    print('Hello')"
      ],
      "metadata": {
        "id": "KZ_BN61btPEx"
      },
      "execution_count": null,
      "outputs": []
    },
    {
      "cell_type": "markdown",
      "source": [
        ""
      ],
      "metadata": {
        "id": "PhNL7-9ut_Er"
      }
    },
    {
      "cell_type": "code",
      "source": [
        "#Loop program\n",
        "n = 0\n",
        "while n > 0 :\n",
        "  print('Lather')\n",
        "  print('Rinse')\n",
        "print('Dry off!')"
      ],
      "metadata": {
        "colab": {
          "base_uri": "https://localhost:8080/"
        },
        "id": "qQFwal7Qt73A",
        "outputId": "97bb377e-4681-496c-bb4d-86aadb4491f7"
      },
      "execution_count": null,
      "outputs": [
        {
          "output_type": "stream",
          "name": "stdout",
          "text": [
            "Dry off!\n"
          ]
        }
      ]
    },
    {
      "cell_type": "code",
      "source": [
        "count = 0\n",
        "sum = 0\n",
        "print('Before', count, sum)\n",
        "for value in [9, 41, 12, 3. 74, 15] :\n",
        "    count = count + 1\n",
        "    sum = sum + value\n",
        "    print(count, sum, value)\n",
        "print('After')"
      ],
      "metadata": {
        "id": "95IFRhQ5ud2e"
      },
      "execution_count": null,
      "outputs": []
    },
    {
      "cell_type": "code",
      "source": [
        "smallest_so_far = -1\n",
        "print('Before', smallest_so_far)\n",
        "for the_num in [9, 41, 12, 3, 74, 15] :\n",
        "  if the_num < smallest_so_far :\n",
        "    smallest_so_far = the_num\n",
        "  print(smallest_so_far, the_num)\n",
        "\n",
        "print('After', smallest_so_far)"
      ],
      "metadata": {
        "id": "_7x_8Og9ViaK"
      },
      "execution_count": null,
      "outputs": []
    },
    {
      "cell_type": "code",
      "source": [
        "if name in counts:\n",
        "    x = counts[name]\n",
        "else :\n",
        "    x = 0\n",
        "\n",
        "x = counts.get(name, 0)"
      ],
      "metadata": {
        "id": "-PBIafYoWMl4"
      },
      "execution_count": null,
      "outputs": []
    }
  ]
}