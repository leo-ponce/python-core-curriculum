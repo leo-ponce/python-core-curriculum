2{
  "nbformat": 4,
  "nbformat_minor": 0,
  "metadata": {
    "colab": {
      "provenance": [],
      "authorship_tag": "ABX9TyNnObv7tYxxH/6P6dyJamdV",
      "include_colab_link": true
    },
    "kernelspec": {
      "name": "python3",
      "display_name": "Python 3"
    },
    "language_info": {
      "name": "python"
    }
  },
  "cells": [
    {
      "cell_type": "markdown",
      "metadata": {
        "id": "view-in-github",
        "colab_type": "text"
      },
      "source": [
        "<a href=\"https://colab.research.google.com/github/leo-ponce/python-core-curriculum/blob/main/20230408W3SchoolsPython.ipynb\" target=\"_parent\"><img src=\"https://colab.research.google.com/assets/colab-badge.svg\" alt=\"Open In Colab\"/></a>"
      ]
    },
    {
      "cell_type": "markdown",
      "source": [
        "I. Python Variables\n",
        "  <p>A. Creating **variables**"
      ],
      "metadata": {
        "id": "7BG5XpyVKtIb"
      }
    },
    {
      "cell_type": "code",
      "source": [
        "1. Python syntax can be ___ by writing directly on the Command Line. Or by creating \n",
        "a Python file on the server, using the .py extension, and running it on the 2. _____\n",
        "A. \n",
        "10. Command Line"
      ],
      "metadata": {
        "id": "9RAJ0P3sv5P6"
      },
      "execution_count": null,
      "outputs": []
    },
    {
      "cell_type": "code",
      "execution_count": null,
      "metadata": {
        "id": "OCx5_OUaKA_X"
      },
      "outputs": [],
      "source": [
        "#assigning values to two different variables \"x\" and \"y\"\n",
        "x = 5\n",
        "y = \"John\"\n",
        "print(x)\n",
        "print(y)"
      ]
    },
    {
      "cell_type": "code",
      "source": [
        "#we change the variable assignment on different lines. Note, the variables vary in type. First an integer, then a string.\n",
        "x = 4       # x is of type int\n",
        "x = \"Sally\" # x is now of type str\n",
        "print(x)"
      ],
      "metadata": {
        "colab": {
          "base_uri": "https://localhost:8080/"
        },
        "id": "TFWNUloiKRgp",
        "outputId": "72ed6c29-e07d-4abf-acd4-d94c662767e9"
      },
      "execution_count": null,
      "outputs": [
        {
          "output_type": "stream",
          "name": "stdout",
          "text": [
            "Sally\n"
          ]
        }
      ]
    },
    {
      "cell_type": "code",
      "source": [
        "x =5\n",
        "y = \"Hello World\""
      ],
      "metadata": {
        "id": "bGDAGsxOdvtm"
      },
      "execution_count": null,
      "outputs": []
    },
    {
      "cell_type": "code",
      "source": [
        "#Casting allows you to change data types\n",
        "x = str(3)    # x will be '3'\n",
        "y = int(3)    # y will be 3\n",
        "z = float(3)  # z will be 3.0 "
      ],
      "metadata": {
        "id": "5UdkwaBQmBVX"
      },
      "execution_count": null,
      "outputs": []
    },
    {
      "cell_type": "code",
      "source": [
        "10. Python syntax can be executed by writing directly on the _____\n",
        "\n",
        "A\n",
        "1. executed\n",
        "2. Command Line"
      ],
      "metadata": {
        "id": "o38PrCjuwE9K"
      },
      "execution_count": null,
      "outputs": []
    }
  ]
}