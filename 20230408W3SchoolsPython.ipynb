#metadata prep for review
#understandibg each line notes

{
  "nbformat": 4,
  "nbformat_minor": 0,
  "metadata": {
    "colab": {
      "provenance": [],
      "authorship_tag": "ABX9TyNqHXurjb4pl+ICzb74cXec",
      "include_colab_link": true
    },
    "kernelspec": {
      "name": "python3",
      "display_name": "Python 3"
    },
    "language_info": {
      "name": "python"
    }
  },
  "cells": [
    {
      "cell_type": "markdown",
      "metadata": {
        "id": "view-in-github",
        "colab_type": "text"
      },
      "source": [
        "<a href=\"https://colab.research.google.com/github/leo-ponce/python-core-curriculum/blob/main/20230408W3SchoolsPython.ipynb\" target=\"_parent\"><img src=\"https://colab.research.google.com/assets/colab-badge.svg\" alt=\"Open In Colab\"/></a>"
      ]
    },
    {
      "cell_type": "markdown",
      "source": [
        "I. Python Variables\n",
        "  <p>A. Creating **variables**"
      ],
      "metadata": {
        "id": "7BG5XpyVKtIb"
      }
    },
    {
      "cell_type": "code",
      "source": [
        "1. Python syntax can be ___ by writing directly on the Command Line. Or by creating \n",
        "a Python file on the server, using the .py extension, and running it on the 2. _____\n",
        "A. \n",
        "10. Command Line"
      ],
      "metadata": {
        "id": "9RAJ0P3sv5P6"
      },
      "execution_count": null,
      "outputs": []
    },
    {
      "cell_type": "code",
      "execution_count": null,
      "metadata": {
        "id": "OCx5_OUaKA_X"
      },
      "outputs": [],
      "source": [
        "#assigning values to two different variables \"x\" and \"y\"\n",
        "x = 5\n #testing assignment to another value 4\n",
        "y = \"John\"\n",
        "print(x)\n",
        "print(y)"
      ]
    },
    {
      "cell_type": "code",
      "source": [
        "#we change the variable assignment on different lines. Note, the variables vary in type. First an integer, then a string.\n",
        "x = 4       # x is of type int\n",
        "x = \"Sally\" # x is now of type str\n",
        "print(x)"
      ],
      "metadata": {
        "colab": {
          "base_uri": "https://localhost:8080/"
        },
        "id": "TFWNUloiKRgp",
        "outputId": "72ed6c29-e07d-4abf-acd4-d94c662767e9"
      },
      "execution_count": null,
      "outputs": [
        {
          "output_type": "stream",
          "name": "stdout",
          "text": [
            "Sally\n"
          ]
        }
      ]
    },
    {
      "cell_type": "code",
      "source": [
        "x =5\n",
        "y = \"Hello World\""
      ],
      "metadata": {
        "id": "bGDAGsxOdvtm"
      },
      "execution_count": null,
      "outputs": []
    },
    {
      "cell_type": "code",
      "source": [
        "#Casting allows you to change data types\n",
        "x = str(3)    # x will be '3'\n",
        "y = int(3)    # y will be 3\n",
        "z = float(3)  # z will be 3.0 "
      ],
      "metadata": {
        "id": "5UdkwaBQmBVX"
      },
      "execution_count": null,
      "outputs": []
    },
    {
      "cell_type": "code",
      "source": [
        "10. Python syntax can be executed by writing directly on the _____\n",
        "\n",
        "A\n",
        "1. executed\n",
        "2. Command Line"
      ],
      "metadata": {
        "id": "o38PrCjuwE9K"
      },
      "execution_count": null,
      "outputs": []
    },
    {
      "cell_type": "markdown",
      "source": [
        "Python Conditionals"
      ],
      "metadata": {
        "id": "5kwK7kem9_TS"
      }
    },
    {
      "cell_type": "code",
      "source": [
        "\n",
        "a = 33\n",
        "b = 200\n",
        "if b > a:\n",
        "  print(\"b is greater than a\")"
      ],
      "metadata": {
        "colab": {
          "base_uri": "https://localhost:8080/"
        },
        "id": "U-W3GuIZ9v_J",
        "outputId": "b9e157bd-3401-4a28-d512-e053c961f01b"
      },
      "execution_count": null,
      "outputs": [
        {
          "output_type": "stream",
          "name": "stdout",
          "text": [
            "b is greater than a\n"
          ]
        }
      ]
    },
    {
      "cell_type": "code",
      "source": [
        "#multiline comments\n",
        "\"\"\"\n",
        "This is a comment\n",
        "written in more than\n",
        "just one line\n",
        "\"\"\""
      ],
      "metadata": {
        "colab": {
          "base_uri": "https://localhost:8080/",
          "height": 35
        },
        "id": "t1kjt11R_aZD",
        "outputId": "c5c9bedb-cd14-43ca-f22d-3c2f548b44d4"
      },
      "execution_count": 4,
      "outputs": [
        {
          "output_type": "execute_result",
          "data": {
            "text/plain": [
              "'\\nThis is a comment\\nwritten in more than\\njust one line\\n'"
            ],
            "application/vnd.google.colaboratory.intrinsic+json": {
              "type": "string"
            }
          },
          "metadata": {},
          "execution_count": 4
        }
      ]
    },
    {
      "cell_type": "markdown",
      "source": [],
      "metadata": {
        "id": "iD-68ug__wPl"
      }
    },
    {
      "cell_type": "code",
      "source": [
        "#assigning variable to a string value\n",
        "\n",
        "carmake = \"Rolls-Royce\"\n",
        "print(carmake)"
      ],
      "metadata": {
        "colab": {
          "base_uri": "https://localhost:8080/"
        },
        "id": "VgmzPN9G_7IE",
        "outputId": "c1802bb7-6447-49a7-9481-50d776496055"
      },
      "execution_count": 6,
      "outputs": [
        {
          "output_type": "stream",
          "name": "stdout",
          "text": [
            "Rolls-Royce\n"
          ]
        }
      ]
    },
    {
      "cell_type": "code",
      "source": [
        "#Create a variable called z, assign x + y to it, and display the result. \n",
        "x = 5\n",
        "y = 10\n",
        "z = x + y\n",
        "print(z)"
      ],
      "metadata": {
        "colab": {
          "base_uri": "https://localhost:8080/"
        },
        "id": "qJtT78YgAVdv",
        "outputId": "ab4d0202-04de-416e-b483-04ffe3d7ccd1"
      },
      "execution_count": 9,
      "outputs": [
        {
          "output_type": "stream",
          "name": "stdout",
          "text": [
            "15\n"
          ]
        }
      ]
    }
  ]
}