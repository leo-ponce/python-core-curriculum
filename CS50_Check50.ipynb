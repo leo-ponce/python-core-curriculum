{
  "nbformat": 4,
  "nbformat_minor": 0,
  "metadata": {
    "colab": {
      "provenance": [],
      "authorship_tag": "ABX9TyPlJhGwXUtPt/EBGHFq8TUo",
      "include_colab_link": true
    },
    "kernelspec": {
      "name": "python3",
      "display_name": "Python 3"
    },
    "language_info": {
      "name": "python"
    }
  },
  "cells": [
    {
      "cell_type": "markdown",
      "metadata": {
        "id": "view-in-github",
        "colab_type": "text"
      },
      "source": [
        "<a href=\"https://colab.research.google.com/github/leo-ponce/python-core-curriculum/blob/main/CS50_Check50.ipynb\" target=\"_parent\"><img src=\"https://colab.research.google.com/assets/colab-badge.svg\" alt=\"Open In Colab\"/></a>"
      ]
    },
    {
      "cell_type": "code",
      "execution_count": null,
      "metadata": {
        "id": "J8AEIotJFQ5r"
      },
      "outputs": [],
      "source": [
        "pip install check50\n",
        "check50 <owner>/<repo>/<branch>/<check>\n",
        "check50 cs50/problems/2018/x/caesar\n",
        "check50 --local <owner>/<repo>/<branch>/<check>\n",
        "check50 --help\n",
        "\n",
        "# Here are initial programming steps for checking student-created programs in CS50.\n",
        "\n",
        "https://cs50.readthedocs.io/projects/check50/en/latest/"
      ]
    }
  ]
}